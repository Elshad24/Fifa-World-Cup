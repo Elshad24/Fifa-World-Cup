{
 "cells": [
  {
   "cell_type": "code",
   "execution_count": 1,
   "id": "de5f70d8",
   "metadata": {},
   "outputs": [],
   "source": [
    "import pandas as pd"
   ]
  },
  {
   "cell_type": "code",
   "execution_count": 8,
   "id": "d42beee2",
   "metadata": {},
   "outputs": [],
   "source": [
    "df = pd.read_csv('FIFA World Cup All Goals 1930-2022.csv',encoding='latin-1')\n",
    "df.to_excel('FIFA World Cup All Goals 1930-2022.xlsx')"
   ]
  }
 ],
 "metadata": {
  "kernelspec": {
   "display_name": "Python 3 (ipykernel)",
   "language": "python",
   "name": "python3"
  },
  "language_info": {
   "codemirror_mode": {
    "name": "ipython",
    "version": 3
   },
   "file_extension": ".py",
   "mimetype": "text/x-python",
   "name": "python",
   "nbconvert_exporter": "python",
   "pygments_lexer": "ipython3",
   "version": "3.9.13"
  }
 },
 "nbformat": 4,
 "nbformat_minor": 5
}
